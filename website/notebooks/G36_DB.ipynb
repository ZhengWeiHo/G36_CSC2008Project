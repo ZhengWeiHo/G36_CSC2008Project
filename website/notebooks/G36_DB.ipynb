{
 "cells": [
  {
   "cell_type": "code",
   "execution_count": 1,
   "metadata": {},
   "outputs": [],
   "source": [
    "import sqlite3\n",
    "\n",
    "# Connect to the database (if it does not exist, it will be created)\n",
    "conn = sqlite3.connect('../blood_donation.db')\n",
    "\n",
    "# Create the Users table\n",
    "conn.execute('''CREATE TABLE users\n",
    "             (UserID INTEGER PRIMARY KEY AUTOINCREMENT,\n",
    "             Name VARCHAR(50),\n",
    "             Email VARCHAR(50) UNIQUE,\n",
    "             Phone VARCHAR(50),\n",
    "             Password VARCHAR(75),\n",
    "             Role VARCHAR(10),\n",
    "             FOREIGN KEY(Role) REFERENCES roles(RoleID))''')\n",
    "\n",
    "# Create the Donors table\n",
    "conn.execute('''CREATE TABLE donors\n",
    "             (DonorID INTEGER PRIMARY KEY AUTOINCREMENT,\n",
    "             UserID INT,\n",
    "             DonorName VARCHAR(50),\n",
    "             DonorAge INT,\n",
    "             DonorGender VARCHAR(1),\n",
    "             DonorWeight FLOAT,\n",
    "             BloodType VARCHAR(3),\n",
    "             DonorAddress VARCHAR(250),\n",
    "             DonorMedicalHistory VARCHAR(50),\n",
    "             FOREIGN KEY(UserID) REFERENCES users(UserID),\n",
    "             FOREIGN KEY(DonorMedicalHistory) REFERENCES medical_conditions(MedicalConditionID))''')\n",
    "\n",
    "# Create the MedicalConditions table\n",
    "conn.execute('''CREATE TABLE medical_conditions\n",
    "             (MedicalConditionID INTEGER PRIMARY KEY AUTOINCREMENT,\n",
    "             Name VARCHAR(75))''')\n",
    "\n",
    "# Create the Roles table\n",
    "conn.execute('''CREATE TABLE roles\n",
    "             (RoleID INTEGER PRIMARY KEY AUTOINCREMENT,\n",
    "             RoleName VARCHAR(10))''')\n",
    "\n",
    "# Create the Donations table\n",
    "conn.execute('''CREATE TABLE donations\n",
    "             (DonationID INTEGER PRIMARY KEY AUTOINCREMENT,\n",
    "             DonorID INT,\n",
    "             DonationDate DATE,\n",
    "             Quantity INT,\n",
    "             Location VARCHAR(50),\n",
    "             FOREIGN KEY(DonorID) REFERENCES donors(DonorID))''')\n",
    "\n",
    "# Create the Appointment table\n",
    "conn.execute('''CREATE TABLE appointment\n",
    "                 (AppointmentID INTEGER PRIMARY KEY AUTOINCREMENT,\n",
    "                  Date DATE,\n",
    "                  Status VARCHAR(20),\n",
    "                  DonorID INTEGER,\n",
    "                  DonationCenterID INTEGER,\n",
    "                  SlotID INTEGER,\n",
    "                  FOREIGN KEY(DonorID) REFERENCES donors(DonorID),\n",
    "                  FOREIGN KEY(DonationCenterID) REFERENCES donation_center(DonationCenterID),\n",
    "                  FOREIGN KEY(SlotID) REFERENCES slots(SlotID))''')\n",
    "\n",
    "# Create the DonationCenter table\n",
    "conn.execute('''CREATE TABLE donation_center\n",
    "             (DonationCenterID INTEGER PRIMARY KEY AUTOINCREMENT,\n",
    "             Name VARCHAR(50),\n",
    "             Address VARCHAR(100))''')\n",
    "\n",
    "# Create the Slots table\n",
    "conn.execute('''CREATE TABLE slots\n",
    "                 (SlotID INTEGER PRIMARY KEY AUTOINCREMENT,\n",
    "                  StartTime TIME,\n",
    "                  EndTime TIME,\n",
    "                  Max_Bookings INT,\n",
    "                  Booked_Count INT,\n",
    "                  DonationCenterID INT,\n",
    "                  FOREIGN KEY(DonationCenterID) REFERENCES donation_center(DonationCenterID))''')\n",
    "\n",
    "# Create the Staff table\n",
    "conn.execute('''CREATE TABLE staff\n",
    "             (StaffID INTEGER PRIMARY KEY AUTOINCREMENT,\n",
    "             Name VARCHAR(50),\n",
    "             Email VARCHAR(50) UNIQUE,\n",
    "             Password VARCHAR(75),\n",
    "             Role VARCHAR(10),\n",
    "             DonationCenterID INT,\n",
    "             FOREIGN KEY(Role) REFERENCES roles(RoleID),\n",
    "             FOREIGN KEY(DonationCenterID) REFERENCES donation_center(DonationCenterID))''')\n",
    "\n",
    "# Save the changes\n",
    "conn.commit()"
   ]
  },
  {
   "cell_type": "code",
   "execution_count": 2,
   "metadata": {},
   "outputs": [
    {
     "data": {
      "text/plain": [
       "<sqlite3.Cursor at 0x18f1b9eb3c0>"
      ]
     },
     "execution_count": 2,
     "metadata": {},
     "output_type": "execute_result"
    }
   ],
   "source": [
    "# Insert data into the Roles table\n",
    "conn.execute(\"INSERT INTO roles (RoleName) VALUES ('Donor')\")\n",
    "conn.execute(\"INSERT INTO roles (RoleName) VALUES ('Staff')\")"
   ]
  },
  {
   "cell_type": "code",
   "execution_count": 3,
   "metadata": {},
   "outputs": [],
   "source": [
    "# Insert data into the MedicalConditions table\n",
    "conn.execute(\"INSERT INTO medical_conditions  (Name) VALUES ('Aids and HIV')\")\n",
    "conn.execute(\"INSERT INTO medical_conditions (Name) VALUES ('Asthma')\")\n",
    "conn.execute(\"INSERT INTO medical_conditions (Name) VALUES ('Babesiosis')\")\n",
    "conn.execute(\"INSERT INTO medical_conditions (Name) VALUES ('Blood disease or disorder')\")\n",
    "conn.execute(\"INSERT INTO medical_conditions (Name) VALUES ('Caesarean Section')\")\n",
    "conn.execute(\"INSERT INTO medical_conditions (Name) VALUES ('Diabetes')\")\n",
    "conn.execute(\"INSERT INTO medical_conditions (Name) VALUES ('Epilepsy')\")\n",
    "conn.execute(\"INSERT INTO medical_conditions (Name) VALUES ('Fits')\")\n",
    "conn.execute(\"INSERT INTO medical_conditions (Name) VALUES ('Haemoglobin level')\")\n",
    "conn.execute(\"INSERT INTO medical_conditions (Name) VALUES ('Syphilis')\")\n",
    "\n",
    "# Save the changes\n",
    "conn.commit()"
   ]
  },
  {
   "cell_type": "code",
   "execution_count": 5,
   "metadata": {},
   "outputs": [],
   "source": [
    "# Insert data into the Slots table\n",
    "conn.execute(\"INSERT INTO slots (StartTime, EndTime, Max_Bookings, Booked_Count, DonationCenterID) VALUES ('09:00:00', '10:00:00', 5, 0, 1)\")\n",
    "conn.execute(\"INSERT INTO slots (StartTime, EndTime, Max_Bookings, Booked_Count, DonationCenterID) VALUES ('10:00:00', '11:00:00', 5, 0, 1)\")\n",
    "conn.execute(\"INSERT INTO slots (StartTime, EndTime, Max_Bookings, Booked_Count, DonationCenterID) VALUES ('11:00:00', '12:00:00', 5, 0, 1)\")\n",
    "conn.execute(\"INSERT INTO slots (StartTime, EndTime, Max_Bookings, Booked_Count, DonationCenterID) VALUES ('12:00:00', '13:00:00', 5, 0, 1)\")\n",
    "conn.execute(\"INSERT INTO slots (StartTime, EndTime, Max_Bookings, Booked_Count, DonationCenterID) VALUES ('13:00:00', '14:00:00', 5, 0, 1)\")\n",
    "conn.execute(\"INSERT INTO slots (StartTime, EndTime, Max_Bookings, Booked_Count, DonationCenterID) VALUES ('14:00:00', '15:00:00', 5, 0, 1)\")\n",
    "conn.execute(\"INSERT INTO slots (StartTime, EndTime, Max_Bookings, Booked_Count, DonationCenterID) VALUES ('15:00:00', '16:00:00', 5, 0, 1)\")\n",
    "conn.execute(\"INSERT INTO slots (StartTime, EndTime, Max_Bookings, Booked_Count, DonationCenterID) VALUES ('16:00:00', '17:00:00', 5, 0, 1)\")\n",
    "\n",
    "\n",
    "# Save the changes\n",
    "conn.commit()"
   ]
  },
  {
   "cell_type": "code",
   "execution_count": 6,
   "metadata": {},
   "outputs": [],
   "source": [
    "# Insert data into the DonationCenter table\n",
    "conn.execute(\"INSERT INTO donation_center (Name, Address) VALUES ('BloodBank@Outram', 'Health Sciences Authority(Opposite Outram Park MRT Station)11 Outram Road Singapore 169078')\")\n",
    "conn.execute(\"INSERT INTO donation_center (Name, Address) VALUES ('BloodBank@DhobyGhaut', 'Dhoby Ghaut MRT Station Dhoby Xchange (Near Exit B)11 Orchard Road #B1-01 to #B1-09 Singapore 238826')\")\n",
    "conn.execute(\"INSERT INTO donation_center (Name, Address) VALUES ('BloodBank@Woodlands', 'Woodlands Civic Centre(Opposite Causeway Point)900 South Woodlands Drive #05-07 Singapore 730900')\")\n",
    "conn.execute(\"INSERT INTO donation_center (Name, Address) VALUES ('BloodBank@WestgateTower', 'Westgate Tower(Linked to Jurong East MRT Station)1 Gateway Drive #10-01 to 05 Singapore 608531')\")\n",
    "\n",
    "# Save the changes\n",
    "conn.commit()"
   ]
  },
  {
   "cell_type": "code",
   "execution_count": 7,
   "metadata": {},
   "outputs": [
    {
     "name": "stdout",
     "output_type": "stream",
     "text": [
      "(1, 'Aids and HIV')\n",
      "(2, 'Asthma')\n",
      "(3, 'Babesiosis')\n",
      "(4, 'Blood disease or disorder')\n",
      "(5, 'Caesarean Section')\n",
      "(6, 'Diabetes')\n",
      "(7, 'Epilepsy')\n",
      "(8, 'Fits')\n",
      "(9, 'Haemoglobin level')\n",
      "(10, 'Syphilis')\n"
     ]
    }
   ],
   "source": [
    "# Select all rows from the MedicalConditions table\n",
    "cursor = conn.execute(\"SELECT * FROM medical_conditions\")\n",
    "\n",
    "# Print the results\n",
    "for row in cursor:\n",
    "    print(row)\n"
   ]
  },
  {
   "cell_type": "code",
   "execution_count": 54,
   "metadata": {},
   "outputs": [],
   "source": [
    "# Insert data into the Staff table\n",
    "conn.execute(\"INSERT INTO staff (Name, Email, Password, Role, DonationCenterID) VALUES ('ZhengWei', 'staff1@gmail.com', 'password1', 2, 1)\")\n",
    "conn.execute(\"INSERT INTO staff (Name, Email, Password, Role, DonationCenterID) VALUES ('John', 'staff2@gmail.com', 'password2', 2, 2)\")\n",
    "conn.execute(\"INSERT INTO staff (Name, Email, Password, Role, DonationCenterID) VALUES ('Mary', 'staff3@gmail.com', 'password3', 2, 3)\")\n",
    "conn.execute(\"INSERT INTO staff (Name, Email, Password, Role, DonationCenterID) VALUES ('Daniel', 'staff4@gmail.com', 'password4', 2, 4)\")\n",
    "\n",
    "# Save the changes\n",
    "conn.commit()"
   ]
  },
  {
   "cell_type": "code",
   "execution_count": 33,
   "metadata": {},
   "outputs": [
    {
     "name": "stdout",
     "output_type": "stream",
     "text": [
      "('2023-04-12', '11:00:00', '12:00:00', 'BloodBank@DhobyGhaut')\n",
      "('2023-03-31', '14:00:00', '15:00:00', 'BloodBank@WestgateTower')\n",
      "('2023-03-27', '13:00:00', '14:00:00', 'BloodBank@Woodlands')\n",
      "('2023-03-27', '16:00:00', '17:00:00', 'BloodBank@DhobyGhaut')\n"
     ]
    }
   ],
   "source": [
    "import sqlite3\n",
    "\n",
    "# Connect to the database (if it does not exist, it will be created)\n",
    "conn = sqlite3.connect('../blood_donation.db')\n",
    "\n",
    "#Filter out appointments that aren't fully booked\n",
    "cursor = conn.execute(\"\"\"\n",
    "    SELECT appointment.Date, slots.StartTime, slots.EndTime, donation_center.Name\n",
    "    FROM appointment\n",
    "    INNER JOIN slots ON Appointment.SlotID = slots.SlotID\n",
    "    INNER JOIN donation_center ON appointment.DonationCenterID = donation_center.DonationCenterID\n",
    "    WHERE slots.Booked_Count < slots.Max_Bookings\n",
    "\"\"\")\n",
    "\n",
    "# Print the results\n",
    "for row in cursor:\n",
    "    print(row)"
   ]
  },
  {
   "cell_type": "code",
   "execution_count": 2,
   "metadata": {},
   "outputs": [
    {
     "data": {
      "text/plain": [
       "<sqlite3.Cursor at 0x2527e071c40>"
      ]
     },
     "execution_count": 2,
     "metadata": {},
     "output_type": "execute_result"
    }
   ],
   "source": [
    "conn.execute(\"DELETE FROM slots WHERE SlotID IN (9, 10, 11, 12, 13, 14, 15, 16)\")\n",
    "# Save the changes\n",
    "conn.commit()"
   ]
  },
  {
   "cell_type": "code",
   "execution_count": 2,
   "metadata": {},
   "outputs": [],
   "source": [
    "import sqlite3\n",
    "\n",
    "# Connect to the database (if it does not exist, it will be created)\n",
    "conn = sqlite3.connect('../blood_donation.db')\n",
    "\n",
    "# Insert data into the Slots table\n",
    "conn.execute(\"INSERT INTO slots (StartTime, EndTime, Max_Bookings, Booked_Count, DonationCenterID) VALUES ('09:00:00', '10:00:00', 5, 0, 2)\")\n",
    "conn.execute(\"INSERT INTO slots (StartTime, EndTime, Max_Bookings, Booked_Count, DonationCenterID) VALUES ('10:00:00', '11:00:00', 5, 0, 2)\")\n",
    "conn.execute(\"INSERT INTO slots (StartTime, EndTime, Max_Bookings, Booked_Count, DonationCenterID) VALUES ('11:00:00', '12:00:00', 5, 0, 2)\")\n",
    "conn.execute(\"INSERT INTO slots (StartTime, EndTime, Max_Bookings, Booked_Count, DonationCenterID) VALUES ('12:00:00', '13:00:00', 5, 0, 2)\")\n",
    "conn.execute(\"INSERT INTO slots (StartTime, EndTime, Max_Bookings, Booked_Count, DonationCenterID) VALUES ('13:00:00', '14:00:00', 5, 0, 2)\")\n",
    "conn.execute(\"INSERT INTO slots (StartTime, EndTime, Max_Bookings, Booked_Count, DonationCenterID) VALUES ('14:00:00', '15:00:00', 5, 0, 2)\")\n",
    "conn.execute(\"INSERT INTO slots (StartTime, EndTime, Max_Bookings, Booked_Count, DonationCenterID) VALUES ('15:00:00', '16:00:00', 5, 0, 2)\")\n",
    "conn.execute(\"INSERT INTO slots (StartTime, EndTime, Max_Bookings, Booked_Count, DonationCenterID) VALUES ('16:00:00', '17:00:00', 5, 0, 2)\")\n",
    "\n",
    "conn.execute(\"INSERT INTO slots (StartTime, EndTime, Max_Bookings, Booked_Count, DonationCenterID) VALUES ('09:00:00', '10:00:00', 5, 0, 3)\")\n",
    "conn.execute(\"INSERT INTO slots (StartTime, EndTime, Max_Bookings, Booked_Count, DonationCenterID) VALUES ('10:00:00', '11:00:00', 5, 0, 3)\")\n",
    "conn.execute(\"INSERT INTO slots (StartTime, EndTime, Max_Bookings, Booked_Count, DonationCenterID) VALUES ('11:00:00', '12:00:00', 5, 0, 3)\")\n",
    "conn.execute(\"INSERT INTO slots (StartTime, EndTime, Max_Bookings, Booked_Count, DonationCenterID) VALUES ('12:00:00', '13:00:00', 5, 0, 3)\")\n",
    "conn.execute(\"INSERT INTO slots (StartTime, EndTime, Max_Bookings, Booked_Count, DonationCenterID) VALUES ('13:00:00', '14:00:00', 5, 0, 3)\")\n",
    "conn.execute(\"INSERT INTO slots (StartTime, EndTime, Max_Bookings, Booked_Count, DonationCenterID) VALUES ('14:00:00', '15:00:00', 5, 0, 3)\")\n",
    "conn.execute(\"INSERT INTO slots (StartTime, EndTime, Max_Bookings, Booked_Count, DonationCenterID) VALUES ('15:00:00', '16:00:00', 5, 0, 3)\")\n",
    "conn.execute(\"INSERT INTO slots (StartTime, EndTime, Max_Bookings, Booked_Count, DonationCenterID) VALUES ('16:00:00', '17:00:00', 5, 0, 3)\")\n",
    "\n",
    "conn.execute(\"INSERT INTO slots (StartTime, EndTime, Max_Bookings, Booked_Count, DonationCenterID) VALUES ('09:00:00', '10:00:00', 5, 0, 4)\")\n",
    "conn.execute(\"INSERT INTO slots (StartTime, EndTime, Max_Bookings, Booked_Count, DonationCenterID) VALUES ('10:00:00', '11:00:00', 5, 0, 4)\")\n",
    "conn.execute(\"INSERT INTO slots (StartTime, EndTime, Max_Bookings, Booked_Count, DonationCenterID) VALUES ('11:00:00', '12:00:00', 5, 0, 4)\")\n",
    "conn.execute(\"INSERT INTO slots (StartTime, EndTime, Max_Bookings, Booked_Count, DonationCenterID) VALUES ('12:00:00', '13:00:00', 5, 0, 4)\")\n",
    "conn.execute(\"INSERT INTO slots (StartTime, EndTime, Max_Bookings, Booked_Count, DonationCenterID) VALUES ('13:00:00', '14:00:00', 5, 0, 4)\")\n",
    "conn.execute(\"INSERT INTO slots (StartTime, EndTime, Max_Bookings, Booked_Count, DonationCenterID) VALUES ('14:00:00', '15:00:00', 5, 0, 4)\")\n",
    "conn.execute(\"INSERT INTO slots (StartTime, EndTime, Max_Bookings, Booked_Count, DonationCenterID) VALUES ('15:00:00', '16:00:00', 5, 0, 4)\")\n",
    "conn.execute(\"INSERT INTO slots (StartTime, EndTime, Max_Bookings, Booked_Count, DonationCenterID) VALUES ('16:00:00', '17:00:00', 5, 0, 4)\")\n",
    "\n",
    "# Save the changes\n",
    "conn.commit()"
   ]
  },
  {
   "cell_type": "code",
   "execution_count": 7,
   "metadata": {},
   "outputs": [],
   "source": [
    "import sqlite3\n",
    "\n",
    "# Connect to the database (if it does not exist, it will be created)\n",
    "conn = sqlite3.connect('../blood_donation.db')\n",
    "\n",
    "cursor = conn.execute(\"SELECT * FROM donations JOIN donors ON donations.DonorID = donors.DonorID WHERE donors.DonorAge > 30\")\n",
    "\n",
    "# Print the results\n",
    "for row in cursor:\n",
    "    print(row)"
   ]
  },
  {
   "cell_type": "code",
   "execution_count": 9,
   "metadata": {},
   "outputs": [
    {
     "name": "stdout",
     "output_type": "stream",
     "text": [
      "(1, '2023-04-12', 'Pending', 1, 2, 3, 2, 'BloodBank@DhobyGhaut', 'Dhoby Ghaut MRT Station Dhoby Xchange (Near Exit B)11 Orchard Road #B1-01 to #B1-09 Singapore 238826')\n"
     ]
    }
   ],
   "source": [
    "cursor = conn.execute(\"SELECT * FROM appointment JOIN donation_center ON appointment.DonationCenterID = donation_center.DonationCenterID WHERE Date = '2023-04-12' AND donation_center.Name = 'BloodBank@DhobyGhaut'\")\n",
    "\n",
    "# Print the results\n",
    "for row in cursor:\n",
    "    print(row)"
   ]
  },
  {
   "cell_type": "code",
   "execution_count": 10,
   "metadata": {},
   "outputs": [
    {
     "name": "stdout",
     "output_type": "stream",
     "text": [
      "(2, 2, 'test', 25, 'F', 13.0, 'AB+', 'address2', '2', 2, 'Asthma')\n"
     ]
    }
   ],
   "source": [
    "cursor = conn.execute(\"SELECT * FROM donors JOIN medical_conditions ON donors.DonorMedicalHistory = medical_conditions.MedicalConditionID WHERE medical_conditions.Name = 'Asthma'\")\n",
    "\n",
    "# Print the results\n",
    "for row in cursor:\n",
    "    print(row)"
   ]
  },
  {
   "cell_type": "code",
   "execution_count": 17,
   "metadata": {},
   "outputs": [
    {
     "name": "stdout",
     "output_type": "stream",
     "text": [
      "(3, '2023-03-27', 'Cancelled', 1, 3, 5, 3, 'BloodBank@Woodlands', 'Woodlands Civic Centre(Opposite Causeway Point)900 South Woodlands Drive #05-07 Singapore 730900')\n"
     ]
    }
   ],
   "source": [
    "cursor = conn.execute(\"SELECT * FROM appointment JOIN donation_center ON appointment.DonationCenterID = donation_center.DonationCenterID WHERE Status = 'Cancelled' AND donation_center.Name = 'BloodBank@Woodlands'\")\n",
    "\n",
    "# Print the results\n",
    "for row in cursor:\n",
    "    print(row)"
   ]
  },
  {
   "cell_type": "code",
   "execution_count": 29,
   "metadata": {},
   "outputs": [
    {
     "name": "stdout",
     "output_type": "stream",
     "text": [
      "(1, '2023-04-12', 'Pending', 1, 2, 3, 3, '11:00:00', '12:00:00', 5, 0, 1)\n"
     ]
    }
   ],
   "source": [
    "cursor = conn.execute(\"SELECT * FROM appointment JOIN slots ON appointment.SlotID = slots.SlotID WHERE DonorID = 1 AND Date = '2023-04-12' AND StartTime = '11:00:00'\")\n",
    "\n",
    "# Print the results\n",
    "for row in cursor:\n",
    "    print(row)"
   ]
  },
  {
   "cell_type": "code",
   "execution_count": 21,
   "metadata": {},
   "outputs": [],
   "source": [
    "cursor = conn.execute(\"SELECT * FROM donors JOIN appointment ON donors.DonorID = appointment.DonorID JOIN donation_center ON appointment.DonationCenterID = donation_center.DonationCenterID JOIN users ON donors.UserID = users.UserID WHERE users.Role = 'Donor' AND donation_center.Name = 'BloodBank@DhobyGhaut'\")\n",
    "\n",
    "# Print the results\n",
    "for row in cursor:\n",
    "    print(row)"
   ]
  },
  {
   "cell_type": "code",
   "execution_count": 24,
   "metadata": {},
   "outputs": [],
   "source": [
    "cursor = conn.execute(\"SELECT users.Name AS FirstName, donors.DonorName AS LastName, users.Email, users.Phone AS PhoneNumber, COUNT(donations.DonationID) AS NumDonations FROM donors  JOIN users ON donors.UserID = users.UserID JOIN donations ON donors.DonorID = donations.DonorID WHERE donations.DonationDate >= DATE('now', '-1 year') GROUP BY donors.DonorID HAVING NumDonations > 3\")\n",
    "\n",
    "# Print the results\n",
    "for row in cursor:\n",
    "    print(row)"
   ]
  },
  {
   "cell_type": "code",
   "execution_count": 25,
   "metadata": {},
   "outputs": [],
   "source": [
    "cursor = conn.execute(\"SELECT donation_center.Name, AVG(slots.Booked_Count / slots.Max_Bookings) AS AvgCapacityUtilization FROM appointment JOIN slots ON appointment.SlotID = slots.SlotID JOIN donation_center ON slots.DonationCenterID = donation_center.DonationCenterID WHERE appointment.Date = DATE('now') AND slots.Booked_Count < slots.Max_Bookings GROUP BY donation_center.DonationCenterID\")\n",
    "\n",
    "# Print the results\n",
    "for row in cursor:\n",
    "    print(row)"
   ]
  },
  {
   "cell_type": "code",
   "execution_count": 30,
   "metadata": {},
   "outputs": [
    {
     "name": "stdout",
     "output_type": "stream",
     "text": [
      "('test', '2023-04-12', 'Pending')\n",
      "('test', '2023-03-27', 'Cancelled')\n"
     ]
    }
   ],
   "source": [
    "cursor = conn.execute(\"SELECT donors.DonorName, appointment.Date, appointment.Status FROM donors JOIN appointment ON donors.DonorID = appointment.DonorID WHERE donors.BloodType = 'O+' AND appointment.Date >= DATE('now', '-1 month')\")\n",
    "\n",
    "for row in cursor:\n",
    "    print(row)"
   ]
  },
  {
   "cell_type": "code",
   "execution_count": 66,
   "metadata": {},
   "outputs": [
    {
     "name": "stdout",
     "output_type": "stream",
     "text": [
      "('test', 25, 'AB+')\n"
     ]
    }
   ],
   "source": [
    "cursor = conn.execute(\"SELECT donors.DonorName, donors.DonorAge, donors.BloodType FROM donors WHERE donors.DonorAge BETWEEN 18 AND 65 AND donors.BloodType = 'AB+'AND NOT EXISTS (SELECT * FROM donations WHERE donations.DonorID = donors.DonorID AND donations.DonationDate >= date('now', '-56 days'))\")\n",
    "\n",
    "for row in cursor:\n",
    "    print(row)"
   ]
  },
  {
   "cell_type": "code",
   "execution_count": 36,
   "metadata": {},
   "outputs": [
    {
     "name": "stdout",
     "output_type": "stream",
     "text": [
      "('Cancelled', 2)\n",
      "('Confirmed', 1)\n",
      "('Pending', 1)\n"
     ]
    }
   ],
   "source": [
    "cursor = conn.execute(\"SELECT appointment.Status, COUNT(*) as TotalAppointments FROM appointment GROUP BY appointment.Status\")\n",
    "\n",
    "for row in cursor:\n",
    "    print(row)"
   ]
  },
  {
   "cell_type": "code",
   "execution_count": 60,
   "metadata": {},
   "outputs": [],
   "source": [
    "try:\n",
    "    cursor = conn.execute(\"SELECT staff.Name, staff.Email FROM staff INNER JOIN donation_center ON staff.Role = 'staff' AND donation_center.DonationCenterID = staff.StaffID WHERE donation_center.Address LIKE '%Health Sciences Authority(Opposite Outram Park MRT Station)11 Outram Road Singapore 169078%'\")\n",
    "    for row in cursor:\n",
    "        print(row)\n",
    "except Exception as e:\n",
    "    print(\"Error:\", e)"
   ]
  },
  {
   "cell_type": "code",
   "execution_count": 61,
   "metadata": {},
   "outputs": [
    {
     "name": "stdout",
     "output_type": "stream",
     "text": [
      "(1, 'ZhengWei', 'staff1@gmail.com', 'password1', '2', 1)\n",
      "(2, 'John', 'staff2@gmail.com', 'password2', '2', 2)\n",
      "(3, 'Mary', 'staff3@gmail.com', 'password3', '2', 3)\n",
      "(4, 'Daniel', 'staff4@gmail.com', 'password4', '2', 4)\n"
     ]
    }
   ],
   "source": [
    "cursor = conn.execute(\"SELECT * FROM staff\")\n",
    "for row in cursor:\n",
    "    print(row)"
   ]
  },
  {
   "cell_type": "code",
   "execution_count": 63,
   "metadata": {},
   "outputs": [
    {
     "name": "stdout",
     "output_type": "stream",
     "text": [
      "('Asthma', 1)\n"
     ]
    }
   ],
   "source": [
    "cursor = conn.execute(\"SELECT medical_conditions.Name, COUNT(*) as TotalDonors FROM donors INNER JOIN medical_conditions ON donors.DonorMedicalHistory = medical_conditions.MedicalConditionID GROUP BY medical_conditions.Name ORDER BY TotalDonors DESC LIMIT 5\")\n",
    "\n",
    "for row in cursor:\n",
    "    print(row)"
   ]
  },
  {
   "cell_type": "code",
   "execution_count": 65,
   "metadata": {},
   "outputs": [],
   "source": [
    "cursor = conn.execute(\"SELECT slots.StartTime, slots.EndTime, slots.Max_Bookings - slots.Booked_Count as AvailableSlots FROM slots INNER JOIN donation_center ON donation_center.DonationCenterID = slots.DonationCenterID LEFT JOIN appointment ON appointment.SlotID = slots.SlotID AND appointment.Status = 'Confirmed' WHERE donation_center.Name = 'BloodBank@WestgateTower' AND appointment.Date = '2023-03-31'\")\n",
    "\n",
    "for row in cursor:\n",
    "    print(row)"
   ]
  }
 ],
 "metadata": {
  "kernelspec": {
   "display_name": "Python 3",
   "language": "python",
   "name": "python3"
  },
  "language_info": {
   "codemirror_mode": {
    "name": "ipython",
    "version": 3
   },
   "file_extension": ".py",
   "mimetype": "text/x-python",
   "name": "python",
   "nbconvert_exporter": "python",
   "pygments_lexer": "ipython3",
   "version": "3.10.3"
  },
  "orig_nbformat": 4
 },
 "nbformat": 4,
 "nbformat_minor": 2
}
