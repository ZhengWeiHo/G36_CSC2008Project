{
 "cells": [
  {
   "cell_type": "code",
   "execution_count": 1,
   "metadata": {},
   "outputs": [],
   "source": [
    "import sqlite3\n",
    "\n",
    "# Connect to the database (if it does not exist, it will be created)\n",
    "conn = sqlite3.connect('../blood_donation.db')\n",
    "\n",
    "# Create the Users table\n",
    "conn.execute('''CREATE TABLE users\n",
    "             (UserID INTEGER PRIMARY KEY AUTOINCREMENT,\n",
    "             Name VARCHAR(50),\n",
    "             Email VARCHAR(50) UNIQUE,\n",
    "             Phone VARCHAR(50),\n",
    "             Password VARCHAR(75),\n",
    "             Role VARCHAR(10),\n",
    "             FOREIGN KEY(Role) REFERENCES Roles(RoleID))''')\n",
    "\n",
    "# Create the Donors table\n",
    "conn.execute('''CREATE TABLE donors\n",
    "             (DonorID INTEGER PRIMARY KEY AUTOINCREMENT,\n",
    "             UserID INT,\n",
    "             DonorName VARCHAR(50),\n",
    "             DonorAge INT,\n",
    "             DonorGender VARCHAR(1),\n",
    "             DonorWeight FLOAT,\n",
    "             BloodType VARCHAR(3),\n",
    "             DonorAddress VARCHAR(250),\n",
    "             DonorMedicalHistory VARCHAR(50),\n",
    "             FOREIGN KEY(UserID) REFERENCES Users(UserID),\n",
    "             FOREIGN KEY(DonorMedicalHistory) REFERENCES MedicalConditions(MedicalConditionID))''')\n",
    "\n",
    "# Create the MedicalConditions table\n",
    "conn.execute('''CREATE TABLE medical_conditions\n",
    "             (MedicalConditionID INTEGER PRIMARY KEY AUTOINCREMENT,\n",
    "             Name VARCHAR(75))''')\n",
    "\n",
    "# Create the Roles table\n",
    "conn.execute('''CREATE TABLE roles\n",
    "             (RoleID INTEGER PRIMARY KEY AUTOINCREMENT,\n",
    "             RoleName VARCHAR(10))''')\n",
    "\n",
    "# Create the Donations table\n",
    "conn.execute('''CREATE TABLE donations\n",
    "             (DonationID INTEGER PRIMARY KEY AUTOINCREMENT,\n",
    "             DonorID INT,\n",
    "             DonationDate DATE,\n",
    "             Quantity INT,\n",
    "             Location VARCHAR(50),\n",
    "             FOREIGN KEY(DonorID) REFERENCES Donors(DonorID))''')\n",
    "\n",
    "# Create the Appointment table\n",
    "conn.execute('''CREATE TABLE appointment\n",
    "                 (AppointmentID INTEGER PRIMARY KEY AUTOINCREMENT,\n",
    "                  Date DATETIME,\n",
    "                  Status VARCHAR(20),\n",
    "                  DonorID INT,\n",
    "                  DonationCenterID INT,\n",
    "                  SlotID INT,\n",
    "                  FOREIGN KEY(DonorID) REFERENCES Donors(DonorID),\n",
    "                  FOREIGN KEY(DonationCenterID) REFERENCES DonationCenter(DonationCenterID),\n",
    "                  FOREIGN KEY(SlotID) REFERENCES Slots(SlotID))''')\n",
    "\n",
    "# Create the DonationCenter table\n",
    "conn.execute('''CREATE TABLE donation_center\n",
    "             (DonationCenterID INTEGER PRIMARY KEY AUTOINCREMENT,\n",
    "             Name VARCHAR(50),\n",
    "             Address VARCHAR(100))''')\n",
    "\n",
    "# Create the Slots table\n",
    "conn.execute('''CREATE TABLE slots\n",
    "                 (SlotID INTEGER PRIMARY KEY AUTOINCREMENT,\n",
    "                  StartTime TIME,\n",
    "                  EndTime TIME,\n",
    "                  Max_Bookings INT,\n",
    "                  Booked_Count INT,\n",
    "                  DonationCenterID INT,\n",
    "                  FOREIGN KEY(DonationCenterID) REFERENCES DonationCenter(DonationCenterID))''')\n",
    "\n",
    "# Create the Staff table\n",
    "conn.execute('''CREATE TABLE staff\n",
    "             (StaffID INTEGER PRIMARY KEY AUTOINCREMENT,\n",
    "             Name VARCHAR(50),\n",
    "             Email VARCHAR(50) UNIQUE,\n",
    "             Password VARCHAR(75),\n",
    "             Role VARCHAR(10),\n",
    "             FOREIGN KEY(Role) REFERENCES Roles(RoleID))''')\n",
    "\n",
    "# Save the changes\n",
    "conn.commit()"
   ]
  },
  {
   "cell_type": "code",
   "execution_count": 2,
   "metadata": {},
   "outputs": [
    {
     "data": {
      "text/plain": [
       "<sqlite3.Cursor at 0x2397f61ec40>"
      ]
     },
     "execution_count": 2,
     "metadata": {},
     "output_type": "execute_result"
    }
   ],
   "source": [
    "# Insert data into the Roles table\n",
    "conn.execute(\"INSERT INTO roles (RoleID, RoleName) VALUES (1, 'Donor')\")\n",
    "conn.execute(\"INSERT INTO roles (RoleID, RoleName) VALUES (2, 'Staff')\")"
   ]
  },
  {
   "cell_type": "code",
   "execution_count": 3,
   "metadata": {},
   "outputs": [],
   "source": [
    "# Insert data into the MedicalConditions table\n",
    "conn.execute(\"INSERT INTO medical_conditions (MedicalConditionID, Name) VALUES (1, 'Aids and HIV')\")\n",
    "conn.execute(\"INSERT INTO medical_conditions (MedicalConditionID, Name) VALUES (2, 'Asthma')\")\n",
    "conn.execute(\"INSERT INTO medical_conditions (MedicalConditionID, Name) VALUES (3, 'Babesiosis')\")\n",
    "conn.execute(\"INSERT INTO medical_conditions (MedicalConditionID, Name) VALUES (4, 'Blood disease or disorder')\")\n",
    "conn.execute(\"INSERT INTO medical_conditions (MedicalConditionID, Name) VALUES (5, 'Caesarean Section')\")\n",
    "conn.execute(\"INSERT INTO medical_conditions (MedicalConditionID, Name) VALUES (6, 'Diabetes')\")\n",
    "conn.execute(\"INSERT INTO medical_conditions (MedicalConditionID, Name) VALUES (7, 'Epilepsy')\")\n",
    "conn.execute(\"INSERT INTO medical_conditions (MedicalConditionID, Name) VALUES (8, 'Fits')\")\n",
    "conn.execute(\"INSERT INTO medical_conditions (MedicalConditionID, Name) VALUES (9, 'Haemoglobin level')\")\n",
    "conn.execute(\"INSERT INTO medical_conditions (MedicalConditionID, Name) VALUES (10, 'Syphilis')\")\n",
    "\n",
    "# Save the changes\n",
    "conn.commit()"
   ]
  },
  {
   "cell_type": "code",
   "execution_count": 4,
   "metadata": {},
   "outputs": [],
   "source": [
    "# Insert data into the Slots table\n",
    "conn.execute(\"INSERT INTO slots (SlotID, StartTime, EndTime, Max_Bookings, Booked_Count) VALUES (1, '09:00:00', '10:00:00', 5, 0)\")\n",
    "conn.execute(\"INSERT INTO slots (SlotID, StartTime, EndTime, Max_Bookings, Booked_Count) VALUES (2, '10:00:00', '11:00:00', 5, 0)\")\n",
    "conn.execute(\"INSERT INTO slots (SlotID, StartTime, EndTime, Max_Bookings, Booked_Count) VALUES (3, '11:00:00', '12:00:00', 5, 0)\")\n",
    "conn.execute(\"INSERT INTO slots (SlotID, StartTime, EndTime, Max_Bookings, Booked_Count) VALUES (4, '12:00:00', '13:00:00', 5, 0)\")\n",
    "conn.execute(\"INSERT INTO slots (SlotID, StartTime, EndTime, Max_Bookings, Booked_Count) VALUES (5, '13:00:00', '14:00:00', 5, 0)\")\n",
    "conn.execute(\"INSERT INTO slots (SlotID, StartTime, EndTime, Max_Bookings, Booked_Count) VALUES (6, '14:00:00', '15:00:00', 5, 0)\")\n",
    "conn.execute(\"INSERT INTO slots (SlotID, StartTime, EndTime, Max_Bookings, Booked_Count) VALUES (7, '15:00:00', '16:00:00', 5, 0)\")\n",
    "conn.execute(\"INSERT INTO slots (SlotID, StartTime, EndTime, Max_Bookings, Booked_Count) VALUES (8, '16:00:00', '17:00:00', 5, 0)\")\n",
    "\n",
    "\n",
    "# Save the changes\n",
    "conn.commit()"
   ]
  },
  {
   "cell_type": "code",
   "execution_count": 5,
   "metadata": {},
   "outputs": [],
   "source": [
    "# Insert data into the DonationCenter table\n",
    "conn.execute(\"INSERT INTO donation_center (DonationCenterID, Name, Address) VALUES (1, 'BloodBank@Outram', 'Health Sciences Authority(Opposite Outram Park MRT Station)11 Outram Road Singapore 169078')\")\n",
    "conn.execute(\"INSERT INTO donation_center (DonationCenterID, Name, Address) VALUES (2, 'BloodBank@DhobyGhaut', 'Dhoby Ghaut MRT Station Dhoby Xchange (Near Exit B)11 Orchard Road #B1-01 to #B1-09 Singapore 238826')\")\n",
    "conn.execute(\"INSERT INTO donation_center (DonationCenterID, Name, Address) VALUES (3, 'BloodBank@Woodlands', 'Woodlands Civic Centre(Opposite Causeway Point)900 South Woodlands Drive #05-07 Singapore 730900')\")\n",
    "conn.execute(\"INSERT INTO donation_center (DonationCenterID, Name, Address) VALUES (4, 'BloodBank@WestgateTower', 'Westgate Tower(Linked to Jurong East MRT Station)1 Gateway Drive #10-01 to 05 Singapore 608531')\")\n",
    "\n",
    "# Save the changes\n",
    "conn.commit()"
   ]
  },
  {
   "cell_type": "code",
   "execution_count": 6,
   "metadata": {},
   "outputs": [
    {
     "name": "stdout",
     "output_type": "stream",
     "text": [
      "(1, 'Aids and HIV')\n",
      "(2, 'Asthma')\n",
      "(3, 'Babesiosis')\n",
      "(4, 'Blood disease or disorder')\n",
      "(5, 'Caesarean Section')\n",
      "(6, 'Diabetes')\n",
      "(7, 'Epilepsy')\n",
      "(8, 'Fits')\n",
      "(9, 'Haemoglobin level')\n",
      "(10, 'Syphilis')\n"
     ]
    }
   ],
   "source": [
    "# Select all rows from the MedicalConditions table\n",
    "cursor = conn.execute(\"SELECT * FROM medical_condtions\")\n",
    "\n",
    "# Print the results\n",
    "for row in cursor:\n",
    "    print(row)"
   ]
  },
  {
   "cell_type": "code",
   "execution_count": null,
   "metadata": {},
   "outputs": [],
   "source": [
    "# Insert data into the Staff table\n",
    "conn.execute(\"INSERT INTO staff (StaffID, Name, Email, Password, Role) VALUES (1, 'ZhengWei', 'staff1@gmail.com', 'password1', 2)\")\n",
    "conn.execute(\"INSERT INTO staff (StaffID, Name, Email, Password, Role) VALUES (2, 'John', 'staff2@gmail.com', 'password2', 2)\")\n",
    "conn.execute(\"INSERT INTO staff (StaffID, Name, Email, Password, Role) VALUES (3, 'Mary', 'staff3@gmail.com', 'password3', 2)\")\n",
    "\n",
    "# Save the changes\n",
    "conn.commit()"
   ]
  },
  {
   "cell_type": "code",
   "execution_count": null,
   "metadata": {},
   "outputs": [],
   "source": [
    "#Filter out appointments that aren't fully booked\n",
    "cursor = conn.execute(\"\"\"\n",
    "    SELECT appointment.Date, slots.StartTime, slots.EndTime, donation_center.Name\n",
    "    FROM appointment\n",
    "    INNER JOIN slots ON Appointment.SlotID = slots.SlotID\n",
    "    INNER JOIN donation_center ON appointment.DonationCenterID = donation_center.DonationCenterID\n",
    "    WHERE slots.Booked_Count < slots.Max_Bookings\n",
    "\"\"\")\n",
    "\n",
    "# Print the results\n",
    "for row in cursor:\n",
    "    print(row)"
   ]
  }
 ],
 "metadata": {
  "kernelspec": {
   "display_name": "Python 3",
   "language": "python",
   "name": "python3"
  },
  "language_info": {
   "codemirror_mode": {
    "name": "ipython",
    "version": 3
   },
   "file_extension": ".py",
   "mimetype": "text/x-python",
   "name": "python",
   "nbconvert_exporter": "python",
   "pygments_lexer": "ipython3",
   "version": "3.10.2"
  },
  "orig_nbformat": 4
 },
 "nbformat": 4,
 "nbformat_minor": 2
}
